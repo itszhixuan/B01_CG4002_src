{
 "cells": [
  {
   "cell_type": "code",
   "execution_count": 1,
   "metadata": {},
   "outputs": [
    {
     "data": {
      "text/html": [
       "<div>\n",
       "<style scoped>\n",
       "    .dataframe tbody tr th:only-of-type {\n",
       "        vertical-align: middle;\n",
       "    }\n",
       "\n",
       "    .dataframe tbody tr th {\n",
       "        vertical-align: top;\n",
       "    }\n",
       "\n",
       "    .dataframe thead th {\n",
       "        text-align: right;\n",
       "    }\n",
       "</style>\n",
       "<table border=\"1\" class=\"dataframe\">\n",
       "  <thead>\n",
       "    <tr style=\"text-align: right;\">\n",
       "      <th></th>\n",
       "      <th>Imu0_linear_accleration_x_mean</th>\n",
       "      <th>Imu0_linear_accleration_x_max</th>\n",
       "      <th>Imu0_linear_accleration_x_min</th>\n",
       "      <th>Imu0_linear_accleration_x_std</th>\n",
       "      <th>Imu0_linear_accleration_x_var</th>\n",
       "      <th>Imu0_linear_accleration_x_rms</th>\n",
       "      <th>Imu0_linear_accleration_x_skew</th>\n",
       "      <th>Imu0_linear_accleration_x_kurtosis</th>\n",
       "      <th>Imu0_linear_accleration_y_mean</th>\n",
       "      <th>Imu0_linear_accleration_y_max</th>\n",
       "      <th>...</th>\n",
       "      <th>Imu2_angular_velocity_z_mean</th>\n",
       "      <th>Imu2_angular_velocity_z_max</th>\n",
       "      <th>Imu2_angular_velocity_z_min</th>\n",
       "      <th>Imu2_angular_velocity_z_std</th>\n",
       "      <th>Imu2_angular_velocity_z_var</th>\n",
       "      <th>Imu2_angular_velocity_z_rms</th>\n",
       "      <th>Imu2_angular_velocity_z_skew</th>\n",
       "      <th>Imu2_angular_velocity_z_kurtosis</th>\n",
       "      <th>csvfile</th>\n",
       "      <th>label</th>\n",
       "    </tr>\n",
       "  </thead>\n",
       "  <tbody>\n",
       "    <tr>\n",
       "      <th>0</th>\n",
       "      <td>2.4286</td>\n",
       "      <td>2.56</td>\n",
       "      <td>2.33</td>\n",
       "      <td>0.062942</td>\n",
       "      <td>0.003962</td>\n",
       "      <td>2.429407</td>\n",
       "      <td>0.195250</td>\n",
       "      <td>-1.102560</td>\n",
       "      <td>1.6826</td>\n",
       "      <td>2.13</td>\n",
       "      <td>...</td>\n",
       "      <td>0.0020</td>\n",
       "      <td>0.05</td>\n",
       "      <td>-0.11</td>\n",
       "      <td>0.027377</td>\n",
       "      <td>0.000749</td>\n",
       "      <td>0.027313</td>\n",
       "      <td>-1.549173</td>\n",
       "      <td>3.665348</td>\n",
       "      <td>0</td>\n",
       "      <td>0</td>\n",
       "    </tr>\n",
       "    <tr>\n",
       "      <th>1</th>\n",
       "      <td>1.3287</td>\n",
       "      <td>1.42</td>\n",
       "      <td>1.20</td>\n",
       "      <td>0.049086</td>\n",
       "      <td>0.002409</td>\n",
       "      <td>1.329597</td>\n",
       "      <td>-0.454452</td>\n",
       "      <td>-0.386853</td>\n",
       "      <td>2.7883</td>\n",
       "      <td>2.92</td>\n",
       "      <td>...</td>\n",
       "      <td>0.0072</td>\n",
       "      <td>0.12</td>\n",
       "      <td>-0.09</td>\n",
       "      <td>0.027673</td>\n",
       "      <td>0.000766</td>\n",
       "      <td>0.028460</td>\n",
       "      <td>0.638604</td>\n",
       "      <td>5.975239</td>\n",
       "      <td>1</td>\n",
       "      <td>0</td>\n",
       "    </tr>\n",
       "    <tr>\n",
       "      <th>2</th>\n",
       "      <td>1.1171</td>\n",
       "      <td>1.25</td>\n",
       "      <td>1.06</td>\n",
       "      <td>0.041103</td>\n",
       "      <td>0.001689</td>\n",
       "      <td>1.117848</td>\n",
       "      <td>1.168490</td>\n",
       "      <td>1.223320</td>\n",
       "      <td>2.9364</td>\n",
       "      <td>3.01</td>\n",
       "      <td>...</td>\n",
       "      <td>0.0144</td>\n",
       "      <td>0.31</td>\n",
       "      <td>-0.11</td>\n",
       "      <td>0.045423</td>\n",
       "      <td>0.002063</td>\n",
       "      <td>0.047434</td>\n",
       "      <td>3.068063</td>\n",
       "      <td>19.973325</td>\n",
       "      <td>2</td>\n",
       "      <td>0</td>\n",
       "    </tr>\n",
       "    <tr>\n",
       "      <th>3</th>\n",
       "      <td>1.0187</td>\n",
       "      <td>1.10</td>\n",
       "      <td>0.96</td>\n",
       "      <td>0.026040</td>\n",
       "      <td>0.000678</td>\n",
       "      <td>1.019029</td>\n",
       "      <td>0.292463</td>\n",
       "      <td>0.156252</td>\n",
       "      <td>3.0190</td>\n",
       "      <td>3.07</td>\n",
       "      <td>...</td>\n",
       "      <td>0.0120</td>\n",
       "      <td>0.08</td>\n",
       "      <td>-0.01</td>\n",
       "      <td>0.012060</td>\n",
       "      <td>0.000145</td>\n",
       "      <td>0.016971</td>\n",
       "      <td>1.826118</td>\n",
       "      <td>9.307672</td>\n",
       "      <td>3</td>\n",
       "      <td>0</td>\n",
       "    </tr>\n",
       "    <tr>\n",
       "      <th>4</th>\n",
       "      <td>1.0261</td>\n",
       "      <td>1.08</td>\n",
       "      <td>0.97</td>\n",
       "      <td>0.022197</td>\n",
       "      <td>0.000493</td>\n",
       "      <td>1.026338</td>\n",
       "      <td>0.043018</td>\n",
       "      <td>-0.331592</td>\n",
       "      <td>2.9969</td>\n",
       "      <td>3.04</td>\n",
       "      <td>...</td>\n",
       "      <td>0.0135</td>\n",
       "      <td>0.06</td>\n",
       "      <td>-0.09</td>\n",
       "      <td>0.017660</td>\n",
       "      <td>0.000312</td>\n",
       "      <td>0.022159</td>\n",
       "      <td>-1.683334</td>\n",
       "      <td>11.811851</td>\n",
       "      <td>4</td>\n",
       "      <td>0</td>\n",
       "    </tr>\n",
       "  </tbody>\n",
       "</table>\n",
       "<p>5 rows × 146 columns</p>\n",
       "</div>"
      ],
      "text/plain": [
       "   Imu0_linear_accleration_x_mean  Imu0_linear_accleration_x_max  \\\n",
       "0                          2.4286                           2.56   \n",
       "1                          1.3287                           1.42   \n",
       "2                          1.1171                           1.25   \n",
       "3                          1.0187                           1.10   \n",
       "4                          1.0261                           1.08   \n",
       "\n",
       "   Imu0_linear_accleration_x_min  Imu0_linear_accleration_x_std  \\\n",
       "0                           2.33                       0.062942   \n",
       "1                           1.20                       0.049086   \n",
       "2                           1.06                       0.041103   \n",
       "3                           0.96                       0.026040   \n",
       "4                           0.97                       0.022197   \n",
       "\n",
       "   Imu0_linear_accleration_x_var  Imu0_linear_accleration_x_rms  \\\n",
       "0                       0.003962                       2.429407   \n",
       "1                       0.002409                       1.329597   \n",
       "2                       0.001689                       1.117848   \n",
       "3                       0.000678                       1.019029   \n",
       "4                       0.000493                       1.026338   \n",
       "\n",
       "   Imu0_linear_accleration_x_skew  Imu0_linear_accleration_x_kurtosis  \\\n",
       "0                        0.195250                           -1.102560   \n",
       "1                       -0.454452                           -0.386853   \n",
       "2                        1.168490                            1.223320   \n",
       "3                        0.292463                            0.156252   \n",
       "4                        0.043018                           -0.331592   \n",
       "\n",
       "   Imu0_linear_accleration_y_mean  Imu0_linear_accleration_y_max  ...  \\\n",
       "0                          1.6826                           2.13  ...   \n",
       "1                          2.7883                           2.92  ...   \n",
       "2                          2.9364                           3.01  ...   \n",
       "3                          3.0190                           3.07  ...   \n",
       "4                          2.9969                           3.04  ...   \n",
       "\n",
       "   Imu2_angular_velocity_z_mean  Imu2_angular_velocity_z_max  \\\n",
       "0                        0.0020                         0.05   \n",
       "1                        0.0072                         0.12   \n",
       "2                        0.0144                         0.31   \n",
       "3                        0.0120                         0.08   \n",
       "4                        0.0135                         0.06   \n",
       "\n",
       "   Imu2_angular_velocity_z_min  Imu2_angular_velocity_z_std  \\\n",
       "0                        -0.11                     0.027377   \n",
       "1                        -0.09                     0.027673   \n",
       "2                        -0.11                     0.045423   \n",
       "3                        -0.01                     0.012060   \n",
       "4                        -0.09                     0.017660   \n",
       "\n",
       "   Imu2_angular_velocity_z_var  Imu2_angular_velocity_z_rms  \\\n",
       "0                     0.000749                     0.027313   \n",
       "1                     0.000766                     0.028460   \n",
       "2                     0.002063                     0.047434   \n",
       "3                     0.000145                     0.016971   \n",
       "4                     0.000312                     0.022159   \n",
       "\n",
       "   Imu2_angular_velocity_z_skew  Imu2_angular_velocity_z_kurtosis  csvfile  \\\n",
       "0                     -1.549173                          3.665348        0   \n",
       "1                      0.638604                          5.975239        1   \n",
       "2                      3.068063                         19.973325        2   \n",
       "3                      1.826118                          9.307672        3   \n",
       "4                     -1.683334                         11.811851        4   \n",
       "\n",
       "   label  \n",
       "0      0  \n",
       "1      0  \n",
       "2      0  \n",
       "3      0  \n",
       "4      0  \n",
       "\n",
       "[5 rows x 146 columns]"
      ]
     },
     "execution_count": 1,
     "metadata": {},
     "output_type": "execute_result"
    }
   ],
   "source": [
    "import os\n",
    "import pandas as pd\n",
    "import numpy as np\n",
    "\n",
    "# Specify the directories for the main data and labels\n",
    "main_data_dir = 'onlineset/rosbag/data/data_clean'\n",
    "label_data_dir = 'onlineset/rosbag/data/label'\n",
    "\n",
    "# Initialize an empty DataFrame to hold the combined data\n",
    "combined_df = pd.DataFrame()\n",
    "\n",
    "counter = 0\n",
    "\n",
    "def extract_global_features(df, counter):\n",
    "    features = {}\n",
    "    # List of IMU sensor axes for which we are calculating features\n",
    "    axes = ['Imu0_linear_accleration_x', 'Imu0_linear_accleration_y', 'Imu0_linear_accleration_z',\n",
    "            'Imu0_angular_velocity_x', 'Imu0_angular_velocity_y', 'Imu0_angular_velocity_z',\n",
    "            'Imu1_linear_accleration_x', 'Imu1_linear_accleration_y', 'Imu1_linear_accleration_z',\n",
    "            'Imu1_angular_velocity_x', 'Imu1_angular_velocity_y', 'Imu1_angular_velocity_z',\n",
    "            'Imu2_linear_accleration_x', 'Imu2_linear_accleration_y', 'Imu2_linear_accleration_z',\n",
    "            'Imu2_angular_velocity_x', 'Imu2_angular_velocity_y', 'Imu2_angular_velocity_z']\n",
    "    \n",
    "    # Iterate through each axis and calculate features\n",
    "    for axis in axes:\n",
    "        features[f'{axis}_mean'] = df[axis].mean()\n",
    "        features[f'{axis}_max'] = df[axis].max()\n",
    "        features[f'{axis}_min'] = df[axis].min()\n",
    "        features[f'{axis}_std'] = df[axis].std()\n",
    "        features[f'{axis}_var'] = df[axis].var()\n",
    "        features[f'{axis}_rms'] = np.sqrt(np.mean(df[axis]**2))\n",
    "        features[f'{axis}_skew'] = df[axis].skew()\n",
    "        features[f'{axis}_kurtosis'] = df[axis].kurtosis()\n",
    "\n",
    "    # Add a csvfile identifier and label\n",
    "    features['csvfile'] = counter\n",
    "    \n",
    "    return features\n",
    "\n",
    "# Loop through each file in the main data directory\n",
    "for filename in os.listdir(main_data_dir):\n",
    "    if filename.endswith('.csv'):\n",
    "        # Construct the file paths\n",
    "        main_file_path = os.path.join(main_data_dir, filename)\n",
    "        label_file_path = os.path.join(label_data_dir, filename.replace('_data.csv', '_label.csv'))\n",
    "        \n",
    "        # Read the main data and label files into DataFrames\n",
    "        main_df = pd.read_csv(main_file_path)\n",
    "        label_df = pd.read_csv(label_file_path, header=None)\n",
    "        \n",
    "        # Extract global features and store in a dictionary\n",
    "        global_features = extract_global_features(main_df, counter)\n",
    "        \n",
    "        # Get the label value from the label file\n",
    "        label_value = label_df.iloc[1, 0]\n",
    "        global_features['label'] = label_value\n",
    "        \n",
    "        # Convert the global features to a DataFrame (1 row)\n",
    "        global_features_df = pd.DataFrame([global_features])\n",
    "        \n",
    "        # Append the global features DataFrame to the combined DataFrame\n",
    "        combined_df = pd.concat([combined_df, global_features_df], ignore_index=True)\n",
    "        \n",
    "        # Increment the counter\n",
    "        counter += 1\n",
    "\n",
    "# Display the first few rows of the combined DataFrame\n",
    "combined_df.head()\n"
   ]
  },
  {
   "cell_type": "code",
   "execution_count": 2,
   "metadata": {},
   "outputs": [
    {
     "name": "stdout",
     "output_type": "stream",
     "text": [
      "<class 'pandas.core.frame.DataFrame'>\n",
      "RangeIndex: 810 entries, 0 to 809\n",
      "Columns: 146 entries, Imu0_linear_accleration_x_mean to label\n",
      "dtypes: float64(144), int64(1), object(1)\n",
      "memory usage: 924.0+ KB\n",
      "None \n",
      "\n"
     ]
    }
   ],
   "source": [
    "print(combined_df.info(), '\\n')"
   ]
  },
  {
   "cell_type": "code",
   "execution_count": 3,
   "metadata": {},
   "outputs": [
    {
     "name": "stdout",
     "output_type": "stream",
     "text": [
      "csvfile\n",
      "0      1\n",
      "543    1\n",
      "533    1\n",
      "534    1\n",
      "535    1\n",
      "      ..\n",
      "273    1\n",
      "274    1\n",
      "275    1\n",
      "276    1\n",
      "809    1\n",
      "Name: count, Length: 810, dtype: int64\n"
     ]
    }
   ],
   "source": [
    "print(combined_df['csvfile'].value_counts())"
   ]
  },
  {
   "cell_type": "code",
   "execution_count": 4,
   "metadata": {},
   "outputs": [
    {
     "name": "stdout",
     "output_type": "stream",
     "text": [
      "label\n",
      "10    109\n",
      "2     103\n",
      "0     102\n",
      "6     101\n",
      "4     100\n",
      "3      99\n",
      "1      98\n",
      "5      98\n",
      "Name: count, dtype: int64\n"
     ]
    }
   ],
   "source": [
    "print(combined_df['label'].value_counts())"
   ]
  },
  {
   "cell_type": "code",
   "execution_count": 5,
   "metadata": {},
   "outputs": [
    {
     "name": "stdout",
     "output_type": "stream",
     "text": [
      "<class 'pandas.core.frame.DataFrame'>\n",
      "RangeIndex: 810 entries, 0 to 809\n",
      "Columns: 146 entries, Imu0_linear_accleration_x_mean to label\n",
      "dtypes: float64(145), int64(1)\n",
      "memory usage: 924.0 KB\n",
      "None \n",
      "\n"
     ]
    }
   ],
   "source": [
    "combined_df['label'] = combined_df['label'].astype(float)\n",
    "combined_df['label'] = combined_df['label'].replace(10, 7)\n",
    "print(combined_df.info(), '\\n')"
   ]
  },
  {
   "cell_type": "code",
   "execution_count": 6,
   "metadata": {},
   "outputs": [],
   "source": [
    "import torch\n",
    "import torch.nn as nn\n",
    "import torch.nn.functional as F"
   ]
  },
  {
   "cell_type": "code",
   "execution_count": 7,
   "metadata": {},
   "outputs": [],
   "source": [
    "class Model(nn.Module):\n",
    "  # Input layer (4 features of the flower) -->\n",
    "  # Hidden Layer1 (number of neurons) -->\n",
    "  # H2 (n) -->\n",
    "  # output (3 classes of iris flowers)\n",
    "  def __init__(self, in_features=144, h1=32, h2=16, out_features=8):\n",
    "    super().__init__() # instantiate our nn.Module\n",
    "    self.fc1 = nn.Linear(in_features, h1)\n",
    "    self.fc2 = nn.Linear(h1, h2)\n",
    "    self.out = nn.Linear(h2, out_features)\n",
    "\n",
    "  def forward(self, x):\n",
    "    x = F.relu(self.fc1(x))\n",
    "    x = F.relu(self.fc2(x))\n",
    "    x = self.out(x)\n",
    "\n",
    "    return x"
   ]
  },
  {
   "cell_type": "code",
   "execution_count": 8,
   "metadata": {},
   "outputs": [],
   "source": [
    "import matplotlib.pyplot as plt\n",
    "%matplotlib inline\n",
    "model = Model()\n",
    "X = combined_df.drop('label', axis=1)\n",
    "y = combined_df['label']"
   ]
  },
  {
   "cell_type": "code",
   "execution_count": 9,
   "metadata": {},
   "outputs": [],
   "source": [
    "X = X.values\n",
    "y = y.values"
   ]
  },
  {
   "cell_type": "code",
   "execution_count": 10,
   "metadata": {},
   "outputs": [
    {
     "name": "stdout",
     "output_type": "stream",
     "text": [
      "[  0   1   2   3   4   5   6   7   8   9  10  11  12  13  14  15  16  17\n",
      "  18  19  20  21  22  23  24  25  26  27  28  29  30  31  32  33  34  35\n",
      "  36  37  38  39  40  41  42  43  44  45  46  47  48  49  50  51  52  53\n",
      "  54  55  56  57  58  59  60  61  62  63  64  65  66  67  68  69  70  71\n",
      "  72  73  74  75  76  77  78  79  80  81  82  83  84  85  86  87  88  89\n",
      "  90  91  92  93  94  95  96  97  98  99 100 101 102 103 104 105 106 107\n",
      " 108 109 110 111 112 113 114 115 116 117 118 119 120 121 122 123 124 125\n",
      " 126 127 128 129 130 131 132 133 134 135 136 137 138 139 140 141 142 143\n",
      " 144 145 146 147 148 149 150 151 152 153 154 155 156 157 158 159 160 161\n",
      " 162 163 164 165 166 167 168 169 170 171 172 173 174 175 176 177 178 179\n",
      " 180 181 182 183 184 185 186 187 188 189 190 191 192 193 194 195 196 197\n",
      " 198 199 200 201 202 203 204 205 206 207 208 209 210 211 212 213 214 215\n",
      " 216 217 218 219 220 221 222 223 224 225 226 227 228 229 230 231 232 233\n",
      " 234 235 236 237 238 239 240 241 242 243 244 245 246 247 248 249 250 251\n",
      " 252 253 254 255 256 257 258 259 260 261 262 263 264 265 266 267 268 269\n",
      " 270 271 272 273 274 275 276 277 278 279 280 281 282 283 284 285 286 287\n",
      " 288 289 290 291 292 293 294 295 296 297 298 299 300 301 302 303 304 305\n",
      " 306 307 308 309 310 311 312 313 314 315 316 317 318 319 320 321 322 323\n",
      " 324 325 326 327 328 329 330 331 332 333 334 335 336 337 338 339 340 341\n",
      " 342 343 344 345 346 347 348 349 350 351 352 353 354 355 356 357 358 359\n",
      " 360 361 362 363 364 365 366 367 368 369 370 371 372 373 374 375 376 377\n",
      " 378 379 380 381 382 383 384 385 386 387 388 389 390 391 392 393 394 395\n",
      " 396 397 398 399 400 401 402 403 404 405 406 407 408 409 410 411 412 413\n",
      " 414 415 416 417 418 419 420 421 422 423 424 425 426 427 428 429 430 431\n",
      " 432 433 434 435 436 437 438 439 440 441 442 443 444 445 446 447 448 449\n",
      " 450 451 452 453 454 455 456 457 458 459 460 461 462 463 464 465 466 467\n",
      " 468 469 470 471 472 473 474 475 476 477 478 479 480 481 482 483 484 485\n",
      " 486 487 488 489 490 491 492 493 494 495 496 497 498 499 500 501 502 503\n",
      " 504 505 506 507 508 509 510 511 512 513 514 515 516 517 518 519 520 521\n",
      " 522 523 524 525 526 527 528 529 530 531 532 533 534 535 536 537 538 539\n",
      " 540 541 542 543 544 545 546 547 548 549 550 551 552 553 554 555 556 557\n",
      " 558 559 560 561 562 563 564 565 566 567 568 569 570 571 572 573 574 575\n",
      " 576 577 578 579 580 581 582 583 584 585 586 587 588 589 590 591 592 593\n",
      " 594 595 596 597 598 599 600 601 602 603 604 605 606 607 608 609 610 611\n",
      " 612 613 614 615 616 617 618 619 620 621 622 623 624 625 626 627 628 629\n",
      " 630 631 632 633 634 635 636 637 638 639 640 641 642 643 644 645 646 647\n",
      " 648 649 650 651 652 653 654 655 656 657 658 659 660 661 662 663 664 665\n",
      " 666 667 668 669 670 671 672 673 674 675 676 677 678 679 680 681 682 683\n",
      " 684 685 686 687 688 689 690 691 692 693 694 695 696 697 698 699 700 701\n",
      " 702 703 704 705 706 707 708 709 710 711 712 713 714 715 716 717 718 719\n",
      " 720 721 722 723 724 725 726 727 728 729 730 731 732 733 734 735 736 737\n",
      " 738 739 740 741 742 743 744 745 746 747 748 749 750 751 752 753 754 755\n",
      " 756 757 758 759 760 761 762 763 764 765 766 767 768 769 770 771 772 773\n",
      " 774 775 776 777 778 779 780 781 782 783 784 785 786 787 788 789 790 791\n",
      " 792 793 794 795 796 797 798 799 800 801 802 803 804 805 806 807 808 809]\n"
     ]
    }
   ],
   "source": [
    "\n",
    "from sklearn.model_selection import train_test_split\n",
    "\n",
    "unique_groups = combined_df['csvfile'].unique()\n",
    "print(unique_groups)"
   ]
  },
  {
   "cell_type": "code",
   "execution_count": 11,
   "metadata": {},
   "outputs": [
    {
     "name": "stdout",
     "output_type": "stream",
     "text": [
      "X_train shape: (405, 144)\n",
      "X_validation shape: (203, 144)\n",
      "X_test shape: (202, 144)\n",
      "y_train shape: (405,)\n",
      "y_validation shape: (203,)\n",
      "y_test shape: (202,)\n"
     ]
    }
   ],
   "source": [
    "# Train Test Split\n",
    "train_groups, temp_groups = train_test_split(unique_groups, test_size=0.5, random_state=42)\n",
    "test_groups, val_groups = train_test_split(temp_groups, test_size=0.5, random_state=42)\n",
    "\n",
    "# Filter the DataFrame based on the group assignments\n",
    "train_df = combined_df[combined_df['csvfile'].isin(train_groups)]\n",
    "test_df = combined_df[combined_df['csvfile'].isin(test_groups)]\n",
    "val_df = combined_df[combined_df['csvfile'].isin(val_groups)]\n",
    "\n",
    "train_df = train_df.drop('csvfile', axis=1)\n",
    "test_df = test_df.drop('csvfile', axis=1)\n",
    "val_df = val_df.drop('csvfile', axis=1)\n",
    "\n",
    "X_train = train_df.drop('label', axis=1)\n",
    "y_train = train_df['label']\n",
    "X_validation = val_df.drop('label', axis=1)\n",
    "y_validation = val_df['label']\n",
    "X_test = test_df.drop('label', axis=1)\n",
    "y_test = test_df['label']\n",
    "\n",
    "print(f\"X_train shape: {X_train.shape}\")\n",
    "print(f\"X_validation shape: {X_validation.shape}\")\n",
    "print(f\"X_test shape: {X_test.shape}\")\n",
    "print(f\"y_train shape: {y_train.shape}\")\n",
    "print(f\"y_validation shape: {y_validation.shape}\")\n",
    "print(f\"y_test shape: {y_test.shape}\")"
   ]
  },
  {
   "cell_type": "code",
   "execution_count": 12,
   "metadata": {},
   "outputs": [
    {
     "name": "stdout",
     "output_type": "stream",
     "text": [
      "Imu0_linear_accleration_x_mean      float64\n",
      "Imu0_linear_accleration_x_max       float64\n",
      "Imu0_linear_accleration_x_min       float64\n",
      "Imu0_linear_accleration_x_std       float64\n",
      "Imu0_linear_accleration_x_var       float64\n",
      "                                     ...   \n",
      "Imu2_angular_velocity_z_std         float64\n",
      "Imu2_angular_velocity_z_var         float64\n",
      "Imu2_angular_velocity_z_rms         float64\n",
      "Imu2_angular_velocity_z_skew        float64\n",
      "Imu2_angular_velocity_z_kurtosis    float64\n",
      "Length: 144, dtype: object\n"
     ]
    }
   ],
   "source": [
    "print(X_train.dtypes)"
   ]
  },
  {
   "cell_type": "code",
   "execution_count": 13,
   "metadata": {},
   "outputs": [],
   "source": [
    "# Convert X features to float tensors\n",
    "X_train = torch.FloatTensor(X_train.values)\n",
    "X_test = torch.FloatTensor(X_test.values)\n",
    "X_validation = torch.FloatTensor(X_validation.values)\n",
    "\n",
    "# Convert y labels to tensors long\n",
    "y_train = torch.LongTensor(y_train.values)\n",
    "y_test = torch.LongTensor(y_test.values)\n",
    "y_validation = torch.LongTensor(y_validation.values)"
   ]
  },
  {
   "cell_type": "code",
   "execution_count": 14,
   "metadata": {},
   "outputs": [],
   "source": [
    "# Set the criterion of model to measure the error, how far off the predictions are from the data\n",
    "criterion = nn.CrossEntropyLoss()\n",
    "# Choose Adam Optimizer, lr = learning rate (if error doesn't go down after a bunch of iterations (epochs), lower our learning rate)\n",
    "optimizer = torch.optim.Adam(model.parameters(), lr=0.01)"
   ]
  },
  {
   "cell_type": "code",
   "execution_count": 15,
   "metadata": {},
   "outputs": [
    {
     "name": "stdout",
     "output_type": "stream",
     "text": [
      "Epoch: 0 | Training Loss: 2.1915 | Validation Loss: 1.8886 | Training Accuracy: 10.37% | Validation Accuracy: 35.96%\n",
      "Epoch: 10 | Training Loss: 0.2479 | Validation Loss: 0.2170 | Training Accuracy: 94.07% | Validation Accuracy: 94.09%\n",
      "Epoch: 20 | Training Loss: 0.0243 | Validation Loss: 0.0327 | Training Accuracy: 99.51% | Validation Accuracy: 98.03%\n",
      "Epoch: 30 | Training Loss: 0.0032 | Validation Loss: 0.0309 | Training Accuracy: 100.00% | Validation Accuracy: 98.52%\n",
      "Epoch: 40 | Training Loss: 0.0009 | Validation Loss: 0.0369 | Training Accuracy: 100.00% | Validation Accuracy: 98.52%\n",
      "Epoch: 50 | Training Loss: 0.0005 | Validation Loss: 0.0356 | Training Accuracy: 100.00% | Validation Accuracy: 99.01%\n",
      "Epoch: 60 | Training Loss: 0.0004 | Validation Loss: 0.0374 | Training Accuracy: 100.00% | Validation Accuracy: 99.01%\n",
      "Epoch: 70 | Training Loss: 0.0003 | Validation Loss: 0.0369 | Training Accuracy: 100.00% | Validation Accuracy: 98.52%\n",
      "Epoch: 80 | Training Loss: 0.0002 | Validation Loss: 0.0359 | Training Accuracy: 100.00% | Validation Accuracy: 98.52%\n",
      "Epoch: 90 | Training Loss: 0.0002 | Validation Loss: 0.0361 | Training Accuracy: 100.00% | Validation Accuracy: 98.52%\n"
     ]
    }
   ],
   "source": [
    "# Set the number of epochs\n",
    "epochs = 100\n",
    "train_losses = []\n",
    "validation_losses = []\n",
    "train_accuracies = []\n",
    "validation_accuracies = []\n",
    "\n",
    "for i in range(epochs):\n",
    "    # Training phase\n",
    "    model.train()  # Set the model to training mode\n",
    "    y_pred = model.forward(X_train)  # Forward pass with training data\n",
    "\n",
    "    # Calculate training loss\n",
    "    loss = criterion(y_pred, y_train)\n",
    "    train_losses.append(loss.detach())  # Track the training loss\n",
    "\n",
    "    # Backpropagation and optimization\n",
    "    optimizer.zero_grad()\n",
    "    loss.backward()\n",
    "    optimizer.step()\n",
    "\n",
    "    # Calculate training accuracy\n",
    "    with torch.no_grad():\n",
    "        _, predicted_train = torch.max(y_pred, 1)  # Get the predicted class\n",
    "        correct_train = (predicted_train == y_train).sum().item()  # Count correct predictions\n",
    "        train_accuracy = correct_train / y_train.size(0) * 100  # Training accuracy in %\n",
    "        train_accuracies.append(train_accuracy)  # Track training accuracy\n",
    "\n",
    "    # Validation phase\n",
    "    model.eval()  # Set the model to evaluation mode\n",
    "    with torch.no_grad():  # No need to track gradients during validation\n",
    "        y_val_pred = model.forward(X_validation)  # Forward pass with validation data\n",
    "        val_loss = criterion(y_val_pred, y_validation)  # Calculate validation loss\n",
    "        validation_losses.append(val_loss.detach())  # Track the validation loss\n",
    "\n",
    "        # Calculate validation accuracy\n",
    "        _, predicted_val = torch.max(y_val_pred, 1)  # Get the predicted class\n",
    "        correct_val = (predicted_val == y_validation).sum().item()  # Count correct predictions\n",
    "        val_accuracy = correct_val / y_validation.size(0) * 100  # Validation accuracy in %\n",
    "        validation_accuracies.append(val_accuracy)  # Track validation accuracy\n",
    "\n",
    "    # Print losses and accuracies every 10 epochs\n",
    "    if i % 10 == 0:\n",
    "        print(f'Epoch: {i} | Training Loss: {loss:.4f} | Validation Loss: {val_loss:.4f} '\n",
    "              f'| Training Accuracy: {train_accuracy:.2f}% | Validation Accuracy: {val_accuracy:.2f}%')\n"
   ]
  },
  {
   "cell_type": "code",
   "execution_count": 16,
   "metadata": {},
   "outputs": [
    {
     "name": "stdout",
     "output_type": "stream",
     "text": [
      "Test Loss: 0.0529\n",
      "Test Accuracy: 98.51%\n"
     ]
    }
   ],
   "source": [
    "# Test phase\n",
    "model.eval()  # Set the model to evaluation mode\n",
    "with torch.no_grad():\n",
    "    y_test_pred = model.forward(X_test)  # Forward pass with test data\n",
    "    test_loss = criterion(y_test_pred, y_test)  # Calculate test loss\n",
    "    print(f'Test Loss: {test_loss:.4f}')\n",
    "    \n",
    "    # Calculate test accuracy\n",
    "    _, predicted = torch.max(y_test_pred, 1)\n",
    "    correct = (predicted == y_test).sum().item()\n",
    "    test_accuracy = correct / y_test.size(0) * 100\n",
    "    print(f'Test Accuracy: {test_accuracy:.2f}%')\n"
   ]
  },
  {
   "cell_type": "code",
   "execution_count": 17,
   "metadata": {},
   "outputs": [
    {
     "data": {
      "image/png": "[encoded data removed]",
      "text/plain": [
       "<Figure size 1200x500 with 2 Axes>"
      ]
     },
     "metadata": {},
     "output_type": "display_data"
    }
   ],
   "source": [
    "import matplotlib.pyplot as plt\n",
    "\n",
    "# Plot Loss Curves\n",
    "plt.figure(figsize=(12, 5))\n",
    "\n",
    "# Loss subplot\n",
    "plt.subplot(1, 2, 1)\n",
    "plt.plot(train_losses, label='Training Loss')\n",
    "plt.plot(validation_losses, label='Validation Loss')\n",
    "plt.axhline(y=test_loss, color='r', linestyle='--', label='Test Loss')  # Plot test loss as a horizontal line\n",
    "plt.xlabel('Epochs')\n",
    "plt.ylabel('Loss')\n",
    "plt.title('Training, Validation, and Test Loss')\n",
    "plt.legend()\n",
    "\n",
    "# Accuracy subplot\n",
    "plt.subplot(1, 2, 2)\n",
    "plt.plot(train_accuracies, label='Training Accuracy')\n",
    "plt.plot(validation_accuracies, label='Validation Accuracy')\n",
    "plt.axhline(y=test_accuracy, color='r', linestyle='--', label='Test Accuracy')  # Plot test accuracy as a horizontal line\n",
    "plt.xlabel('Epochs')\n",
    "plt.ylabel('Accuracy (%)')\n",
    "plt.title('Training, Validation, and Test Accuracy')\n",
    "plt.legend()\n",
    "\n",
    "plt.tight_layout()\n",
    "plt.show()\n"
   ]
  },
  {
   "cell_type": "code",
   "execution_count": 15,
   "metadata": {},
   "outputs": [
    {
     "name": "stdout",
     "output_type": "stream",
     "text": [
      "Epoch: 0 | Training Loss: 2.346569299697876 | Validation Loss: 1.8440840244293213\n",
      "Epoch: 10 | Training Loss: 0.2932649850845337 | Validation Loss: 0.22835007309913635\n",
      "Epoch: 20 | Training Loss: 0.039780691266059875 | Validation Loss: 0.044961851090192795\n",
      "Epoch: 30 | Training Loss: 0.006979104597121477 | Validation Loss: 0.024910686537623405\n",
      "Epoch: 40 | Training Loss: 0.0018380131805315614 | Validation Loss: 0.02166282758116722\n",
      "Epoch: 50 | Training Loss: 0.0008277538581751287 | Validation Loss: 0.02109544537961483\n",
      "Epoch: 60 | Training Loss: 0.0005311674322001636 | Validation Loss: 0.019415946677327156\n",
      "Epoch: 70 | Training Loss: 0.00039792133611626923 | Validation Loss: 0.01801985688507557\n",
      "Epoch: 80 | Training Loss: 0.000334482901962474 | Validation Loss: 0.01872848905622959\n",
      "Epoch: 90 | Training Loss: 0.00029431196162477136 | Validation Loss: 0.018254294991493225\n"
     ]
    }
   ],
   "source": [
    "# Set the number of epochs\n",
    "epochs = 100\n",
    "losses = []\n",
    "validation_losses = []\n",
    "\n",
    "for i in range(epochs):\n",
    "    # Training phase\n",
    "    model.train()  # Set the model to training mode\n",
    "    y_pred = model.forward(X_train)  # Forward pass with training data\n",
    "\n",
    "    # Calculate training loss\n",
    "    loss = criterion(y_pred, y_train)\n",
    "    losses.append(loss.detach())  # Track the training loss\n",
    "\n",
    "    # Backpropagation and optimization\n",
    "    optimizer.zero_grad()\n",
    "    loss.backward()\n",
    "    optimizer.step()\n",
    "\n",
    "    # Validation phase\n",
    "    model.eval()  # Set the model to evaluation mode\n",
    "    with torch.no_grad():  # No need to track gradients during validation\n",
    "        y_val_pred = model.forward(X_validation)  # Forward pass with validation data\n",
    "        val_loss = criterion(y_val_pred, y_validation)  # Calculate validation loss\n",
    "        validation_losses.append(val_loss.detach())  # Track the validation loss\n",
    "\n",
    "    # Print losses every 10 epochs\n",
    "    if i % 10 == 0:\n",
    "        print(f'Epoch: {i} | Training Loss: {loss} | Validation Loss: {val_loss}')"
   ]
  },
  {
   "cell_type": "code",
   "execution_count": 32,
   "metadata": {},
   "outputs": [
    {
     "name": "stdout",
     "output_type": "stream",
     "text": [
      "Test Loss: 0.08901279419660568\n",
      "Test Accuracy: 97.03%\n",
      "Time taken for test predictions: 0.061043 seconds\n"
     ]
    }
   ],
   "source": [
    "import time\n",
    "model.eval()  # Set the model to evaluation mode\n",
    "start_time = time.time()\n",
    "with torch.no_grad():\n",
    "    y_test_pred = model.forward(X_test)  # Forward pass with test data\n",
    "    \n",
    "    test_loss = criterion(y_test_pred, y_test)  # Calculate test loss\n",
    "    print(f'Test Loss: {test_loss}')\n",
    "    \n",
    "    # Optionally, calculate accuracy or other metrics\n",
    "    _, predicted = torch.max(y_test_pred, 1)\n",
    "    correct = (predicted == y_test).sum().item()\n",
    "    accuracy = correct / y_test.size(0)\n",
    "    end_time = time.time()\n",
    "    elapsed_time = end_time - start_time\n",
    "    print(f'Test Accuracy: {accuracy * 100:.2f}%')\n",
    "    print(f'Time taken for test predictions: {elapsed_time:.6f} seconds')"
   ]
  },
  {
   "cell_type": "code",
   "execution_count": 33,
   "metadata": {},
   "outputs": [
    {
     "name": "stdout",
     "output_type": "stream",
     "text": [
      "CSV file saved successfully.\n"
     ]
    }
   ],
   "source": [
    "numpy_data = X_test.numpy() \n",
    "df = pd.DataFrame(numpy_data)\n",
    "df.to_csv('xtest.csv', index=False, header=False)\n",
    "\n",
    "print(\"CSV file saved successfully.\")"
   ]
  },
  {
   "cell_type": "code",
   "execution_count": 34,
   "metadata": {},
   "outputs": [
    {
     "name": "stdout",
     "output_type": "stream",
     "text": [
      "CSV file saved successfully.\n"
     ]
    }
   ],
   "source": [
    "numpy_data = y_test.numpy() \n",
    "df = pd.DataFrame(numpy_data)\n",
    "df.to_csv('ytest.csv', index=False, header=False)\n",
    "\n",
    "print(\"CSV file saved successfully.\")"
   ]
  },
  {
   "cell_type": "code",
   "execution_count": 18,
   "metadata": {},
   "outputs": [
    {
     "data": {
      "image/png": "[encoded data removed]",
      "text/plain": [
       "<Figure size 1000x700 with 2 Axes>"
      ]
     },
     "metadata": {},
     "output_type": "display_data"
    }
   ],
   "source": [
    "from sklearn.metrics import confusion_matrix\n",
    "import seaborn as sns\n",
    "import matplotlib.pyplot as plt\n",
    "\n",
    "y_test_np = y_test.cpu().numpy()  # Convert to NumPy array if using GPU tensors\n",
    "predicted_np = predicted.cpu().numpy()\n",
    "\n",
    "cm = confusion_matrix(y_test_np, predicted_np)\n",
    "\n",
    "plt.figure(figsize=(10, 7))\n",
    "sns.heatmap(cm, annot=True, fmt='d', cmap='Blues')\n",
    "plt.xlabel('Predicted Labels')\n",
    "plt.ylabel('True Labels')\n",
    "plt.title('Confusion Matrix')\n",
    "plt.show()\n"
   ]
  },
  {
   "cell_type": "code",
   "execution_count": 37,
   "metadata": {},
   "outputs": [
    {
     "data": {
      "text/plain": [
       "Index(['Imu0_linear_accleration_x_mean', 'Imu0_linear_accleration_x_max',\n",
       "       'Imu0_linear_accleration_x_min', 'Imu0_linear_accleration_x_std',\n",
       "       'Imu0_linear_accleration_x_var', 'Imu0_linear_accleration_x_rms',\n",
       "       'Imu0_linear_accleration_x_skew', 'Imu0_linear_accleration_x_kurtosis',\n",
       "       'Imu0_linear_accleration_y_mean', 'Imu0_linear_accleration_y_max',\n",
       "       ...\n",
       "       'Imu2_angular_velocity_z_mean', 'Imu2_angular_velocity_z_max',\n",
       "       'Imu2_angular_velocity_z_min', 'Imu2_angular_velocity_z_std',\n",
       "       'Imu2_angular_velocity_z_var', 'Imu2_angular_velocity_z_rms',\n",
       "       'Imu2_angular_velocity_z_skew', 'Imu2_angular_velocity_z_kurtosis',\n",
       "       'csvfile', 'label'],\n",
       "      dtype='object', length=146)"
      ]
     },
     "execution_count": 37,
     "metadata": {},
     "output_type": "execute_result"
    }
   ],
   "source": [
    "featurenames = combined_df.columns\n",
    "featurenames"
   ]
  },
  {
   "cell_type": "code",
   "execution_count": 38,
   "metadata": {},
   "outputs": [
    {
     "name": "stdout",
     "output_type": "stream",
     "text": [
      "Weight: \n",
      "tensor([[ 0.1359, -0.0126,  0.0240,  ..., -0.1202, -0.1683, -0.0724],\n",
      "        [ 0.0556,  0.0226, -0.0320,  ..., -0.1726, -0.2779,  0.1717],\n",
      "        [-0.2196, -0.1224, -0.0905,  ..., -0.0308, -0.1757,  0.0757],\n",
      "        ...,\n",
      "        [ 0.0856,  0.0048,  0.0995,  ..., -0.1151,  0.0529, -0.0949],\n",
      "        [-0.2022, -0.1643, -0.0784,  ...,  0.1137,  0.1384,  0.0580],\n",
      "        [ 0.1831,  0.2181,  0.2228,  ...,  0.2054, -0.1069, -0.0987]])\n",
      "Bias: \n",
      "tensor([ 0.1089,  0.0439,  0.0868, -0.0640,  0.1075, -0.0326, -0.0747, -0.0013,\n",
      "        -0.0641,  0.1200,  0.1187, -0.1140,  0.0054,  0.0098,  0.0870,  0.0380,\n",
      "         0.0295, -0.0887, -0.0214,  0.1422,  0.0815,  0.0810,  0.1688,  0.0369,\n",
      "         0.1093, -0.0358,  0.2263,  0.1408, -0.0127, -0.0407,  0.0144,  0.2161])\n",
      "Weight: \n",
      "tensor([[-0.1172, -0.2039,  0.1095, -0.0010, -0.1406, -0.1097,  0.0586, -0.0825,\n",
      "          0.1941,  0.3144, -0.4540,  0.2392, -0.1272,  0.1513,  0.2293, -0.1477,\n",
      "          0.0164, -0.0825,  0.3170,  0.1297, -0.0252,  0.0753,  0.2099, -0.1411,\n",
      "         -0.3111,  0.1373, -0.2301,  0.0747, -0.0216, -0.1324,  0.2745, -0.1354],\n",
      "        [-0.0531, -0.1347, -0.0334, -0.2164,  0.2761, -0.1209,  0.0221, -0.1686,\n",
      "          0.0687,  0.2717,  0.2681, -0.0779,  0.1959, -0.0788, -0.1263, -0.0019,\n",
      "          0.1634,  0.0351, -0.1213,  0.1655,  0.0643, -0.1168, -0.0854, -0.2427,\n",
      "         -0.1269, -0.1150,  0.4183,  0.1894, -0.0852, -0.0782, -0.1628, -0.0266],\n",
      "        [ 0.0534,  0.1591,  0.0203,  0.1451,  0.1406,  0.1302,  0.0741,  0.0348,\n",
      "          0.0362,  0.0233, -0.0507,  0.0489,  0.0099, -0.2029, -0.0217,  0.1338,\n",
      "         -0.1883,  0.1078,  0.0680, -0.0980,  0.1933,  0.0182,  0.2330,  0.2689,\n",
      "         -0.0134,  0.0770, -0.3973, -0.0823,  0.1145,  0.0439, -0.1695, -0.0753],\n",
      "        [ 0.0551,  0.2503,  0.2405, -0.0106, -0.1864, -0.0919, -0.0255, -0.0551,\n",
      "          0.0253,  0.0723, -0.3382,  0.0944,  0.0256,  0.2996,  0.1615,  0.0323,\n",
      "          0.3187,  0.0948,  0.1623, -0.0194,  0.1606, -0.0200, -0.2541,  0.1033,\n",
      "         -0.1902, -0.2944, -0.2505, -0.2319, -0.0491,  0.0870,  0.0686, -0.1853],\n",
      "        [-0.0185, -0.1731, -0.2037,  0.0563,  0.1487,  0.0086, -0.2187, -0.2007,\n",
      "          0.0337,  0.1639,  0.1283, -0.0333,  0.0993,  0.0535, -0.1919,  0.1691,\n",
      "         -0.1106,  0.0413,  0.0498,  0.0722, -0.2139, -0.0995, -0.1960,  0.0640,\n",
      "         -0.2080, -0.1833,  0.3982,  0.2546,  0.1400, -0.0872,  0.0162, -0.0270],\n",
      "        [ 0.2142,  0.0917,  0.3805,  0.0037, -0.0802,  0.0185, -0.1279, -0.0291,\n",
      "          0.0710, -0.3048, -0.2207,  0.0879, -0.0552, -0.2427, -0.0013, -0.1181,\n",
      "          0.3470, -0.0334,  0.2190,  0.3259,  0.2179,  0.0108, -0.1600,  0.1809,\n",
      "          0.0599, -0.0792, -0.1799, -0.1426, -0.1222, -0.1078, -0.1183, -0.2490],\n",
      "        [ 0.3501,  0.1899,  0.0972,  0.0739,  0.3614,  0.1033,  0.2059,  0.0129,\n",
      "          0.0545,  0.1271,  0.2386,  0.0671,  0.0378,  0.1307, -0.0198,  0.1087,\n",
      "         -0.0722, -0.0806, -0.1857, -0.2165,  0.1453, -0.0855,  0.0341,  0.1796,\n",
      "          0.2066, -0.0974, -0.0007,  0.1232,  0.1327,  0.1484, -0.2701, -0.1395],\n",
      "        [ 0.1011, -0.1312, -0.1658,  0.0200,  0.0428, -0.1143, -0.1901,  0.0421,\n",
      "         -0.1071, -0.1246, -0.1776,  0.0974,  0.1709, -0.0459, -0.0775, -0.0282,\n",
      "          0.1070, -0.0136, -0.1931, -0.0598, -0.0512, -0.1300, -0.0119, -0.0076,\n",
      "         -0.0271,  0.0060,  0.1159, -0.0499, -0.1023, -0.1360, -0.0541, -0.1381],\n",
      "        [-0.0164, -0.1409, -0.0941,  0.0452, -0.2771,  0.0183,  0.1097, -0.0386,\n",
      "          0.0186, -0.0082,  0.1638,  0.0924,  0.0382, -0.1257,  0.2433, -0.1507,\n",
      "         -0.0239, -0.1217,  0.0679, -0.2079, -0.1848,  0.1226,  0.0793, -0.1221,\n",
      "          0.2474,  0.1549, -0.1333,  0.0252,  0.1576,  0.1080,  0.1536,  0.4113],\n",
      "        [ 0.3137, -0.0368, -0.0907,  0.0252,  0.1759, -0.1350,  0.2532,  0.1247,\n",
      "          0.1334,  0.3859,  0.1391,  0.1101, -0.0208,  0.2528,  0.2113,  0.0668,\n",
      "         -0.0779,  0.1875, -0.1942, -0.2197,  0.1132,  0.2396,  0.0497,  0.2157,\n",
      "          0.4119,  0.0580,  0.0129,  0.0111,  0.2474,  0.0222,  0.1235,  0.2546],\n",
      "        [-0.0137, -0.1925,  0.0437, -0.1661, -0.2319,  0.1066, -0.0115, -0.1081,\n",
      "         -0.0787, -0.0060, -0.0836, -0.1743,  0.1282, -0.1100, -0.1244,  0.1325,\n",
      "         -0.2172, -0.1070, -0.2284, -0.1777, -0.2265,  0.0815, -0.1565, -0.2207,\n",
      "         -0.2504, -0.0495, -0.0660,  0.0090, -0.2322,  0.0728, -0.1372,  0.0284],\n",
      "        [ 0.0255, -0.1299, -0.1402, -0.0715,  0.1329, -0.1116,  0.0480, -0.0781,\n",
      "          0.1027,  0.1562, -0.0012, -0.2209, -0.0208,  0.0148, -0.0762, -0.0252,\n",
      "          0.2837,  0.0851, -0.1425,  0.1087, -0.0201, -0.1061, -0.0676, -0.1326,\n",
      "         -0.3156, -0.0245,  0.1551,  0.2875,  0.0632, -0.0094, -0.1648, -0.2417],\n",
      "        [-0.0576, -0.0607, -0.1949, -0.1316,  0.1978, -0.1651, -0.1838,  0.1110,\n",
      "          0.1187,  0.1166,  0.1649, -0.0608, -0.0421, -0.0391, -0.1061,  0.0318,\n",
      "         -0.2036,  0.0692,  0.0578, -0.0707,  0.0400,  0.0929, -0.1719, -0.1827,\n",
      "         -0.2349,  0.0235,  0.0938,  0.1340,  0.0972, -0.0150,  0.0058, -0.0443],\n",
      "        [-0.1415, -0.2542,  0.0387,  0.0260,  0.1836,  0.0667, -0.1533,  0.0874,\n",
      "         -0.0185,  0.1363,  0.2878, -0.0790, -0.1043, -0.0367, -0.1965,  0.1511,\n",
      "          0.2219,  0.0794,  0.0186,  0.3245,  0.0020, -0.1066,  0.3936,  0.1086,\n",
      "          0.2246,  0.0910,  0.4724,  0.4438,  0.0391, -0.0218,  0.0979,  0.4109],\n",
      "        [-0.2040, -0.0663,  0.1010,  0.0610, -0.1128, -0.1521, -0.0045, -0.1555,\n",
      "         -0.1400,  0.0008, -0.1861,  0.0399,  0.0120, -0.1601, -0.2001, -0.0949,\n",
      "         -0.1283, -0.1364, -0.1403,  0.0567, -0.1065, -0.1033, -0.0300, -0.0964,\n",
      "          0.0087, -0.0527,  0.0234, -0.0031, -0.0792, -0.1906, -0.1763, -0.2186],\n",
      "        [ 0.0313, -0.0256, -0.0171, -0.1061,  0.1341, -0.1234, -0.2561, -0.0378,\n",
      "          0.0344,  0.0501, -0.0741, -0.1910, -0.2148, -0.0729,  0.2114, -0.0444,\n",
      "          0.0391, -0.1251,  0.2052,  0.1071,  0.1473, -0.5775, -0.2296, -0.2213,\n",
      "          0.1671, -0.2733,  0.0929,  0.2048, -0.1391, -0.1123, -0.0893, -0.3617]])\n",
      "Bias: \n",
      "tensor([ 0.1543,  0.2464, -0.1586,  0.1343,  0.0354,  0.0481, -0.0402, -0.2111,\n",
      "         0.0671,  0.0217, -0.0717, -0.0169,  0.1332, -0.1303,  0.0539, -0.1705])\n",
      "Weight: \n",
      "tensor([[-1.3460e-01,  3.7067e-01, -2.6419e-01, -3.7299e-01,  3.0153e-01,\n",
      "         -1.8462e-01,  1.3007e-01,  1.1576e-01,  2.1095e-02,  7.1518e-02,\n",
      "         -7.4442e-02,  1.7688e-01,  1.9880e-01,  1.4616e-01, -7.2887e-02,\n",
      "          1.8230e-01],\n",
      "        [ 3.7620e-01, -1.5954e-01, -1.1570e-01,  1.3071e-01,  4.7134e-02,\n",
      "         -2.1297e-01, -1.5113e-01, -2.7439e-01,  2.5213e-01,  2.2893e-01,\n",
      "         -1.5539e-01, -3.6189e-02,  2.7305e-01, -1.8956e-01, -9.3455e-03,\n",
      "         -1.1054e-02],\n",
      "        [ 2.6338e-01,  1.5242e-02, -1.8571e-01,  2.7141e-01,  9.7497e-02,\n",
      "          1.7785e-01, -1.4287e-01, -2.2445e-01,  4.4409e-02, -2.0246e-02,\n",
      "         -2.8348e-02, -2.9380e-01,  9.2609e-02, -2.3302e-01, -1.3724e-01,\n",
      "          1.7766e-01],\n",
      "        [-2.7679e-01, -7.2151e-02,  9.0876e-02,  2.0570e-01, -2.4461e-01,\n",
      "          3.9754e-01,  1.4440e-01,  1.2782e-01, -6.3909e-02, -1.8208e-02,\n",
      "          5.9552e-02, -1.6269e-01, -7.2563e-02, -1.7990e-01,  1.3301e-01,\n",
      "          8.0986e-02],\n",
      "        [-2.5717e-02, -3.6983e-01,  2.7527e-01,  5.5606e-02,  6.1099e-02,\n",
      "         -9.0314e-02,  4.1250e-01, -2.1215e-01, -4.4650e-01,  2.5140e-01,\n",
      "          1.3290e-01,  3.9446e-02, -3.2482e-01, -1.3106e-01, -2.9321e-02,\n",
      "         -7.5421e-02],\n",
      "        [ 3.2493e-01, -3.8062e-01, -5.0040e-04, -1.9465e-01, -4.3633e-02,\n",
      "         -7.2902e-02, -2.5569e-01, -2.6270e-01,  1.3773e-01,  2.6354e-02,\n",
      "          4.5194e-02, -3.6015e-01,  6.6482e-03,  3.7152e-01, -1.6466e-02,\n",
      "          1.7296e-01],\n",
      "        [ 1.2889e-01, -1.1141e-01,  1.0737e-01,  1.6699e-01,  3.7495e-03,\n",
      "          3.7280e-01, -2.9043e-01, -7.1600e-02, -2.1949e-01, -5.0573e-01,\n",
      "          4.4459e-02, -7.9936e-02, -1.8738e-01,  2.9703e-01, -1.1515e-01,\n",
      "         -1.7906e-01],\n",
      "        [-1.3365e-02, -2.9208e-03,  1.3491e-01, -3.3018e-01, -2.5865e-01,\n",
      "         -1.9302e-01,  9.9539e-02, -8.9009e-02,  3.5876e-01,  2.9836e-01,\n",
      "          2.2929e-02, -1.0214e-02, -1.2819e-01,  2.7900e-01, -2.0023e-01,\n",
      "         -1.4656e-01]])\n",
      "Bias: \n",
      "tensor([ 0.1080,  0.0049,  0.0069,  0.1873, -0.2038, -0.2127,  0.0231,  0.4447])\n"
     ]
    }
   ],
   "source": [
    "from torch import nn\n",
    "\n",
    "for layer in model.children():\n",
    "    if isinstance(layer, nn.Linear):\n",
    "        print(\"Weight: \" )\n",
    "        print(layer.state_dict()['weight'])\n",
    "        print(\"Bias: \" )\n",
    "        print(layer.state_dict()['bias'])"
   ]
  },
  {
   "cell_type": "code",
   "execution_count": 40,
   "metadata": {},
   "outputs": [
    {
     "name": "stdout",
     "output_type": "stream",
     "text": [
      "Saved weights to layer_0_weights.csv\n",
      "Saved biases to layer_0_biases.csv\n",
      "Saved weights to layer_1_weights.csv\n",
      "Saved biases to layer_1_biases.csv\n",
      "Saved weights to layer_2_weights.csv\n",
      "Saved biases to layer_2_biases.csv\n"
     ]
    }
   ],
   "source": [
    "import torch\n",
    "from torch import nn\n",
    "import pandas as pd\n",
    "\n",
    "# Assuming 'model' is your MLP model\n",
    "for i, layer in enumerate(model.children()):\n",
    "    if isinstance(layer, nn.Linear):\n",
    "        # Get weights and biases\n",
    "        weights = layer.state_dict()['weight'].cpu().numpy()\n",
    "        biases = layer.state_dict()['bias'].cpu().numpy()\n",
    "        \n",
    "        # Convert weights and biases to DataFrames\n",
    "        weights_df = pd.DataFrame(weights)\n",
    "        biases_df = pd.DataFrame(biases)\n",
    "        \n",
    "        # Define file names for CSV files\n",
    "        weight_filename = f'layer_{i}_weights.csv'\n",
    "        bias_filename = f'layer_{i}_biases.csv'\n",
    "        \n",
    "        # Save weights and biases to CSV files\n",
    "        weights_df.to_csv(weight_filename, index=False, header=False)\n",
    "        biases_df.to_csv(bias_filename, index=False, header=False)\n",
    "        \n",
    "        print(f'Saved weights to {weight_filename}')\n",
    "        print(f'Saved biases to {bias_filename}')\n"
   ]
  },
  {
   "cell_type": "code",
   "execution_count": 41,
   "metadata": {},
   "outputs": [
    {
     "data": {
      "text/plain": [
       "tensor([[ 2.4286e+00,  2.5600e+00,  2.3300e+00,  ...,  2.7313e-02,\n",
       "         -1.5492e+00,  3.6653e+00],\n",
       "        [ 1.1171e+00,  1.2500e+00,  1.0600e+00,  ...,  4.7434e-02,\n",
       "          3.0681e+00,  1.9973e+01],\n",
       "        [ 1.6848e+00,  1.7400e+00,  1.6400e+00,  ...,  1.4355e-02,\n",
       "         -9.6454e-01,  1.3365e+00],\n",
       "        ...,\n",
       "        [-6.6853e+00, -5.4100e+00, -9.7000e+00,  ...,  7.6161e-01,\n",
       "          3.4581e+00,  1.3764e+01],\n",
       "        [-6.3948e+00, -4.7100e+00, -7.6500e+00,  ...,  4.6036e-01,\n",
       "          3.3302e+00,  1.1383e+01],\n",
       "        [-4.5613e+00, -3.1400e+00, -6.4100e+00,  ...,  4.8791e-01,\n",
       "          3.8705e+00,  1.5617e+01]])"
      ]
     },
     "execution_count": 41,
     "metadata": {},
     "output_type": "execute_result"
    }
   ],
   "source": [
    "X_validation"
   ]
  },
  {
   "cell_type": "code",
   "execution_count": 20,
   "metadata": {},
   "outputs": [
    {
     "name": "stdout",
     "output_type": "stream",
     "text": [
      "tensor([[ 16.3946,  -2.8632, -19.7328, -22.1057,  -4.2480,  -7.3543, -16.0464,\n",
      "          -2.4063]])\n",
      "Probabilities: tensor([[1.0000e+00, 4.3298e-09, 2.0421e-16, 1.9034e-17, 1.0841e-09, 4.8528e-11,\n",
      "         8.1478e-15, 6.8376e-09]])\n"
     ]
    }
   ],
   "source": [
    "import torch\n",
    "\n",
    "# Convert input data to a PyTorch tensor\n",
    "input_data = torch.tensor([[1.0187,1.1,0.96,0.02604018,0.0006780909,1.0190295,0.29246312,0.15625152,3.019,3.07,2.96,0.021625835,0.00046767676,3.0190766,-0.1620381,0.24577479,9.06,9.14,8.98,0.033333335,0.0011111111,9.0600605,-0.0050092763,-0.37390548,0.0964,0.12,0.08,0.0071802195,5.1555555e-05,0.09666437,0.49530438,0.30859077,0.0308,0.05,0.02,0.00691653,4.7838384e-05,0.031559467,0.4542584,0.541849,0.0053,0.01,0.0,0.0050161355,2.5161617e-05,0.00728011,-0.12205509,-2.0260355,-8.3721,-8.24,-8.47,0.04063374,0.001651101,8.372197,0.04174422,0.28397015,4.5221,4.61,4.44,0.032823216,0.0010773636,4.5222178,-0.07632977,-0.16051912,2.6643,2.79,2.57,0.03649422,0.0013318283,2.6645474,0.38471994,0.8125317,0.0682,0.08,0.06,0.004114522,1.6929293e-05,0.06832276,-1.2379956,0.8811203,-0.135,-0.13,-0.14,0.005025189,2.5252526e-05,0.13509256,0.0,-2.041237,0.0128,0.03,0.0,0.0060436125,3.6525253e-05,0.014142135,0.34694535,0.2899276,-7.6992,-7.64,-7.76,0.023556508,0.0005549091,7.6992354,-0.2065083,0.119233504,5.4367,5.5,5.36,0.026402287,0.0006970808,5.4367633,-0.010191155,0.41262498,0.9005,1.0,0.82,0.03627546,0.0013159091,0.90122306,0.035319686,0.08802274,0.1481,0.16,0.14,0.005259911,2.7666667e-05,0.14819244,-0.19136243,0.115383916,0.1055,0.13,0.08,0.008918826,7.9545454e-05,0.105872564,0.15145783,0.46847537,0.012,0.08,-0.01,0.012060454,0.00014545454,0.016970562,1.8261179,9.307672]], dtype=torch.float32)\n",
    "\n",
    "# Ensure the model is in evaluation mode\n",
    "model.eval()\n",
    "\n",
    "# Disable gradient calculations for inference\n",
    "with torch.no_grad():\n",
    "    # Perform a forward pass\n",
    "    output = model(input_data)\n",
    "    probabilities = F.softmax(output, dim=1)\n",
    "\n",
    "# Print the output\n",
    "print(output)\n",
    "print(\"Probabilities:\", probabilities)\n"
   ]
  },
  {
   "cell_type": "code",
   "execution_count": 22,
   "metadata": {},
   "outputs": [
    {
     "data": {
      "text/plain": [
       "tensor([[ 1.0187e+00,  1.1000e+00,  9.6000e-01,  ...,  1.6971e-02,\n",
       "          1.8261e+00,  9.3077e+00],\n",
       "        [ 1.5459e+00,  1.6100e+00,  1.5000e+00,  ...,  1.4177e-02,\n",
       "          5.9822e-01,  2.8389e+00],\n",
       "        [ 5.1708e+00,  5.2100e+00,  5.1000e+00,  ...,  1.4107e-02,\n",
       "          2.2963e-01, -2.6297e-02],\n",
       "        ...,\n",
       "        [-8.2954e+00, -6.7700e+00, -9.2900e+00,  ...,  3.7893e-01,\n",
       "          4.7015e+00,  2.6226e+01],\n",
       "        [-7.7376e+00, -6.6400e+00, -9.1600e+00,  ...,  4.5223e-01,\n",
       "          3.5480e+00,  1.4156e+01],\n",
       "        [-6.3912e+00, -5.4700e+00, -8.0500e+00,  ...,  6.8530e-01,\n",
       "          2.7531e+00,  7.6905e+00]])"
      ]
     },
     "execution_count": 22,
     "metadata": {},
     "output_type": "execute_result"
    }
   ],
   "source": [
    "X_test"
   ]
  },
  {
   "cell_type": "code",
   "execution_count": null,
   "metadata": {},
   "outputs": [],
   "source": []
  }
 ],
 "metadata": {
  "kernelspec": {
   "display_name": "myenv",
   "language": "python",
   "name": "python3"
  },
  "language_info": {
   "codemirror_mode": {
    "name": "ipython",
    "version": 3
   },
   "file_extension": ".py",
   "mimetype": "text/x-python",
   "name": "python",
   "nbconvert_exporter": "python",
   "pygments_lexer": "ipython3",
   "version": "3.10.11"
  }
 },
 "nbformat": 4,
 "nbformat_minor": 2
}
